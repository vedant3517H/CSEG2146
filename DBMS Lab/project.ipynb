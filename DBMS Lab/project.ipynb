{
 "cells": [
  {
   "cell_type": "code",
   "execution_count": 1,
   "id": "4198f2e1-456e-460c-a43c-1f20c6b92706",
   "metadata": {},
   "outputs": [
    {
     "name": "stdout",
     "output_type": "stream",
     "text": [
      "\n",
      "Airbus Ticket Management System\n",
      "1. Add Flight\n",
      "2. View Flights\n",
      "3. Exit\n"
     ]
    },
    {
     "name": "stdin",
     "output_type": "stream",
     "text": [
      "Choose an option:  1import tkinter as tk from tkinter import messagebox import sqlite3  class AirbusTicketManagementGUI:     def __init__(self, root):         self.root = root         self.root.title(\"Airbus Ticket Management System\")                  # Connect to the database         self.connection = sqlite3.connect('AirbusTicketManagement.db')         self.cursor = self.connection.cursor()                  # Create tables if they don't exist         self.create_tables()          # Create GUI components         self.create_widgets()      def create_tables(self):         # Create tables if they don't exist         self.cursor.execute('''             CREATE TABLE IF NOT EXISTS Flights (                 flight_id INTEGER PRIMARY KEY AUTOINCREMENT,                 flight_number TEXT NOT NULL UNIQUE,                 origin TEXT NOT NULL,                 destination TEXT NOT NULL,                 departure_time DATETIME NOT NULL,                 arrival_time DATETIME NOT NULL,                 total_seats INTEGER NOT NULL,                 available_seats INTEGER NOT NULL             )         ''')         self.connection.commit()      def create_widgets(self):         # Flight number         tk.Label(self.root, text=\"Flight Number\").grid(row=0)         self.flight_number_entry = tk.Entry(self.root)         self.flight_number_entry.grid(row=0, column=1)          # Origin         tk.Label(self.root, text=\"Origin\").grid(row=1)         self.origin_entry = tk.Entry(self.root)         self.origin_entry.grid(row=1, column=1)          # Destination         tk.Label(self.root, text=\"Destination\").grid(row=2)         self.destination_entry = tk.Entry(self.root)         self.destination_entry.grid(row=2, column=1)          # Departure Time         tk.Label(self.root, text=\"Departure Time\").grid(row=3)         self.departure_entry = tk.Entry(self.root)         self.departure_entry.grid(row=3, column=1)          # Arrival Time         tk.Label(self.root, text=\"Arrival Time\").grid(row=4)         self.arrival_entry = tk.Entry(self.root)         self.arrival_entry.grid(row=4, column=1)          # Total Seats         tk.Label(self.root, text=\"Total Seats\").grid(row=5)         self.total_seats_entry = tk.Entry(self.root)         self.total_seats_entry.grid(row=5, column=1)          # Add Flight Button         add_flight_button = tk.Button(self.root, text=\"Add Flight\", command=self.add_flight)         add_flight_button.grid(row=6, columnspan=2)      def add_flight(self):         flight_number = self.flight_number_entry.get()         origin = self.origin_entry.get()         destination = self.destination_entry.get()                 # Validate entry fields and insert into database         try:            departure_time = str(self.departure_entry.get())            arrival_time = str(self.arrival_entry.get())            total_seats = int(self.total_seats_entry.get())            available_seats = total_seats             # Insert into database            self.cursor.execute('''                INSERT INTO Flights (flight_number, origin, destination, departure_time, arrival_time, total_seats, available_seats)                VALUES (?, ?, ?, ?, ?, ?, ?)            ''', (flight_number, origin, destination, departure_time, arrival_time, total_seats, available_seats))            self.connection.commit()             messagebox.showinfo(\"Success\", \"Flight added successfully!\")        except Exception as e:            messagebox.showerror(\"Error\", str(e))  if __name__ == \"__main__\":     root = tk.Tk()     app = AirbusTicketManagementGUI(root)     root.mainloop(\n"
     ]
    },
    {
     "name": "stdout",
     "output_type": "stream",
     "text": [
      "Invalid choice. Please try again.\n",
      "\n",
      "Airbus Ticket Management System\n",
      "1. Add Flight\n",
      "2. View Flights\n",
      "3. Exit\n"
     ]
    },
    {
     "name": "stdin",
     "output_type": "stream",
     "text": [
      "Choose an option:  2\n"
     ]
    },
    {
     "name": "stdout",
     "output_type": "stream",
     "text": [
      "\n",
      "Airbus Ticket Management System\n",
      "1. Add Flight\n",
      "2. View Flights\n",
      "3. Exit\n"
     ]
    },
    {
     "name": "stdin",
     "output_type": "stream",
     "text": [
      "Choose an option:  1\n",
      "Enter flight number:  BK5000\n",
      "Enter origin:  kolkata\n",
      "Enter destination:  Dehradun \n",
      "Enter departure time (YYYY-MM-DD HH:MM:SS):  2024-11-28 14:15:00\n",
      "Enter arrival time (YYYY-MM-DD HH:MM:SS):  2024-11-28 16:45:00\n",
      "Enter total seats:  108\n"
     ]
    },
    {
     "name": "stdout",
     "output_type": "stream",
     "text": [
      "Flight added successfully!\n",
      "\n",
      "Airbus Ticket Management System\n",
      "1. Add Flight\n",
      "2. View Flights\n",
      "3. Exit\n"
     ]
    },
    {
     "name": "stdin",
     "output_type": "stream",
     "text": [
      "Choose an option:  2\n"
     ]
    },
    {
     "name": "stdout",
     "output_type": "stream",
     "text": [
      "Flight ID: 1, Flight Number: BK5000, Origin: kolkata, Destination: Dehradun , Departure: 2024-11-28 14:15:00, Arrival: 2024-11-28 16:45:00, Total Seats: 108, Available Seats: 108\n",
      "\n",
      "Airbus Ticket Management System\n",
      "1. Add Flight\n",
      "2. View Flights\n",
      "3. Exit\n"
     ]
    },
    {
     "name": "stdin",
     "output_type": "stream",
     "text": [
      "Choose an option:  3\n"
     ]
    }
   ],
   "source": [
    "import sqlite3\n",
    "\n",
    "class AirbusTicketManagement:\n",
    "    def __init__(self, db_name='AirbusTicketManagement.db'):\n",
    "        self.connection = sqlite3.connect(db_name)\n",
    "        self.cursor = self.connection.cursor()\n",
    "        self.create_tables()\n",
    "\n",
    "    def create_tables(self):\n",
    "        # Create tables if they don't exist\n",
    "        self.cursor.execute('''\n",
    "            CREATE TABLE IF NOT EXISTS Flights (\n",
    "                flight_id INTEGER PRIMARY KEY AUTOINCREMENT,\n",
    "                flight_number TEXT NOT NULL UNIQUE,\n",
    "                origin TEXT NOT NULL,\n",
    "                destination TEXT NOT NULL,\n",
    "                departure_time DATETIME NOT NULL,\n",
    "                arrival_time DATETIME NOT NULL,\n",
    "                total_seats INTEGER NOT NULL,\n",
    "                available_seats INTEGER NOT NULL\n",
    "            )\n",
    "        ''')\n",
    "        self.cursor.execute('''\n",
    "            CREATE TABLE IF NOT EXISTS Passengers (\n",
    "                passenger_id INTEGER PRIMARY KEY AUTOINCREMENT,\n",
    "                first_name TEXT NOT NULL,\n",
    "                last_name TEXT NOT NULL,\n",
    "                email TEXT UNIQUE NOT NULL,\n",
    "                phone_number TEXT\n",
    "            )\n",
    "        ''')\n",
    "        self.connection.commit()\n",
    "\n",
    "    def add_flight(self):\n",
    "        flight_number = input(\"Enter flight number: \")\n",
    "        origin = input(\"Enter origin: \")\n",
    "        destination = input(\"Enter destination: \")\n",
    "        departure_time = input(\"Enter departure time (YYYY-MM-DD HH:MM:SS): \")\n",
    "        arrival_time = input(\"Enter arrival time (YYYY-MM-DD HH:MM:SS): \")\n",
    "        total_seats = int(input(\"Enter total seats: \"))\n",
    "        available_seats = total_seats\n",
    "\n",
    "        self.cursor.execute('''\n",
    "            INSERT INTO Flights (flight_number, origin, destination, departure_time, arrival_time, total_seats, available_seats)\n",
    "            VALUES (?, ?, ?, ?, ?, ?, ?)\n",
    "        ''', (flight_number, origin, destination, departure_time, arrival_time, total_seats, available_seats))\n",
    "        self.connection.commit()\n",
    "        print(\"Flight added successfully!\")\n",
    "\n",
    "    def view_flights(self):\n",
    "        self.cursor.execute(\"SELECT * FROM Flights\")\n",
    "        flights = self.cursor.fetchall()\n",
    "        for flight in flights:\n",
    "            print(f\"Flight ID: {flight[0]}, Flight Number: {flight[1]}, Origin: {flight[2]}, Destination: {flight[3]}, Departure: {flight[4]}, Arrival: {flight[5]}, Total Seats: {flight[6]}, Available Seats: {flight[7]}\")\n",
    "\n",
    "    def menu(self):\n",
    "        while True:\n",
    "            print(\"\\nAirbus Ticket Management System\")\n",
    "            print(\"1. Add Flight\")\n",
    "            print(\"2. View Flights\")\n",
    "            print(\"3. Exit\")\n",
    "            choice = input(\"Choose an option: \")\n",
    "\n",
    "            if choice == '1':\n",
    "                self.add_flight()\n",
    "            elif choice == '2':\n",
    "                self.view_flights()\n",
    "            elif choice == '3':\n",
    "                break\n",
    "            else:\n",
    "                print(\"Invalid choice. Please try again.\")\n",
    "\n",
    "if __name__ == \"__main__\":\n",
    "    system = AirbusTicketManagement()\n",
    "    system.menu()\n"
   ]
  },
  {
   "cell_type": "code",
   "execution_count": null,
   "id": "e4a939d7-62cb-4c5d-bb7c-af7d35df8426",
   "metadata": {},
   "outputs": [],
   "source": []
  }
 ],
 "metadata": {
  "kernelspec": {
   "display_name": "Python 3 (ipykernel)",
   "language": "python",
   "name": "python3"
  },
  "language_info": {
   "codemirror_mode": {
    "name": "ipython",
    "version": 3
   },
   "file_extension": ".py",
   "mimetype": "text/x-python",
   "name": "python",
   "nbconvert_exporter": "python",
   "pygments_lexer": "ipython3",
   "version": "3.11.7"
  }
 },
 "nbformat": 4,
 "nbformat_minor": 5
}
